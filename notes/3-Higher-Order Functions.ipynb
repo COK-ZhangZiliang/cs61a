{
 "cells": [
  {
   "cell_type": "markdown",
   "id": "7ba3656d",
   "metadata": {},
   "source": [
    "### 斐波那契数列"
   ]
  },
  {
   "cell_type": "code",
   "execution_count": 2,
   "id": "a99cfdf7",
   "metadata": {},
   "outputs": [
    {
     "name": "stdout",
     "output_type": "stream",
     "text": [
      "0 1 1 2 3 5\n"
     ]
    }
   ],
   "source": [
    "def fib(n):\n",
    "    prev, cur = 1, 0\n",
    "    k = 0\n",
    "    while k < n:\n",
    "        prev, cur = cur, prev + cur\n",
    "        k += 1\n",
    "    return cur\n",
    "\n",
    "print(fib(0), fib(1), fib(2), fib(3), fib(4), fib(5))"
   ]
  },
  {
   "cell_type": "markdown",
   "id": "b49f3133",
   "metadata": {},
   "source": [
    "### assert"
   ]
  },
  {
   "cell_type": "code",
   "execution_count": 5,
   "id": "2bebf149",
   "metadata": {
    "scrolled": true
   },
   "outputs": [
    {
     "ename": "AssertionError",
     "evalue": "error",
     "output_type": "error",
     "traceback": [
      "\u001b[1;31m---------------------------------------------------------------------------\u001b[0m",
      "\u001b[1;31mAssertionError\u001b[0m                            Traceback (most recent call last)",
      "\u001b[1;32m~\\AppData\\Local\\Temp\\ipykernel_12276\\1707219241.py\u001b[0m in \u001b[0;36m<module>\u001b[1;34m\u001b[0m\n\u001b[1;32m----> 1\u001b[1;33m \u001b[1;32massert\u001b[0m \u001b[1;36m3\u001b[0m \u001b[1;33m>\u001b[0m \u001b[1;36m4\u001b[0m\u001b[1;33m,\u001b[0m \u001b[1;34m\"error\"\u001b[0m\u001b[1;33m\u001b[0m\u001b[1;33m\u001b[0m\u001b[0m\n\u001b[0m",
      "\u001b[1;31mAssertionError\u001b[0m: error"
     ]
    }
   ],
   "source": [
    "assert 3 > 4, \"error\""
   ]
  },
  {
   "cell_type": "markdown",
   "id": "c487fb2d",
   "metadata": {},
   "source": [
    "### 范式编程\n",
    "##### 函数作为传入参数"
   ]
  },
  {
   "cell_type": "code",
   "execution_count": 6,
   "id": "03863782",
   "metadata": {},
   "outputs": [
    {
     "name": "stdout",
     "output_type": "stream",
     "text": [
      "55 225\n"
     ]
    }
   ],
   "source": [
    "def identity(k):\n",
    "    return k\n",
    "\n",
    "def cube(k):\n",
    "    return pow(k, 3)\n",
    "\n",
    "def summation(n, term):\n",
    "    total, k = 0, 1\n",
    "    while k <= n:\n",
    "        total, k = total + term(k), k + 1\n",
    "    return total\n",
    "\n",
    "print(summation(10, identity), summation(5, cube))"
   ]
  },
  {
   "cell_type": "markdown",
   "id": "fab1d84f",
   "metadata": {},
   "source": [
    "##### 函数作为返回值"
   ]
  },
  {
   "cell_type": "code",
   "execution_count": 7,
   "id": "d96b0919",
   "metadata": {},
   "outputs": [
    {
     "data": {
      "text/plain": [
       "110"
      ]
     },
     "execution_count": 7,
     "metadata": {},
     "output_type": "execute_result"
    }
   ],
   "source": [
    "def make_adder(n):\n",
    "    def adder(k):\n",
    "        return n + k\n",
    "    return adder\n",
    "\n",
    "make_adder(100)(10)"
   ]
  },
  {
   "cell_type": "markdown",
   "id": "e77256d4",
   "metadata": {},
   "source": [
    "### lambda 表达式"
   ]
  },
  {
   "cell_type": "code",
   "execution_count": 9,
   "id": "787e2a62",
   "metadata": {},
   "outputs": [
    {
     "data": {
      "text/plain": [
       "100"
      ]
     },
     "execution_count": 9,
     "metadata": {},
     "output_type": "execute_result"
    }
   ],
   "source": [
    "(lambda x: x * x)(10)"
   ]
  },
  {
   "cell_type": "markdown",
   "id": "608fa90d",
   "metadata": {},
   "source": [
    "### 求一个函数的反函数"
   ]
  },
  {
   "cell_type": "code",
   "execution_count": 14,
   "id": "c078a610",
   "metadata": {},
   "outputs": [
    {
     "data": {
      "text/plain": [
       "16"
      ]
     },
     "execution_count": 14,
     "metadata": {},
     "output_type": "execute_result"
    }
   ],
   "source": [
    "def search(f):\n",
    "    x = 0\n",
    "    while not f(x):\n",
    "        x += 1\n",
    "    return x\n",
    "\n",
    "def square(x):\n",
    "    return x * x\n",
    "\n",
    "# g(y) = g(f(x)) = x\n",
    "def inverse(f):\n",
    "    return lambda y: search(lambda x: f(x) == y)\n",
    "\n",
    "sqrt = inverse(square)\n",
    "sqrt(256)"
   ]
  },
  {
   "cell_type": "markdown",
   "id": "037360c6",
   "metadata": {},
   "source": [
    "### 条件表达式"
   ]
  },
  {
   "cell_type": "code",
   "execution_count": 16,
   "id": "28d24741",
   "metadata": {},
   "outputs": [
    {
     "name": "stdout",
     "output_type": "stream",
     "text": [
      "1\n",
      "-1\n"
     ]
    }
   ],
   "source": [
    "x = 0\n",
    "y = 1 if x == 0 else -1\n",
    "print(y)\n",
    "x = -1\n",
    "y = 1 if x == 0 else -1\n",
    "print(y)"
   ]
  }
 ],
 "metadata": {
  "kernelspec": {
   "display_name": "Python [conda env:root] *",
   "language": "python",
   "name": "conda-root-py"
  },
  "language_info": {
   "codemirror_mode": {
    "name": "ipython",
    "version": 3
   },
   "file_extension": ".py",
   "mimetype": "text/x-python",
   "name": "python",
   "nbconvert_exporter": "python",
   "pygments_lexer": "ipython3",
   "version": "3.9.13"
  }
 },
 "nbformat": 4,
 "nbformat_minor": 5
}
