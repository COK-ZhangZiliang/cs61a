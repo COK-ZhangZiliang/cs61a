{
 "cells": [
  {
   "cell_type": "code",
   "execution_count": 1,
   "id": "3a89020e",
   "metadata": {},
   "outputs": [
    {
     "name": "stdout",
     "output_type": "stream",
     "text": [
      "1\n",
      "2\n",
      "None None\n"
     ]
    }
   ],
   "source": [
    "print(print(1), print(2))"
   ]
  },
  {
   "cell_type": "markdown",
   "id": "15e923ae",
   "metadata": {},
   "source": [
    "### Pure Functions\n",
    ">just return values \n",
    "+ eg. mul()\n",
    "### Non-Pure Functions\n",
    ">have side effects \n",
    "+ eg. print()"
   ]
  },
  {
   "cell_type": "markdown",
   "id": "3b93ad59",
   "metadata": {},
   "source": [
    "### 函数返回多个值"
   ]
  },
  {
   "cell_type": "code",
   "execution_count": 4,
   "id": "d91133d0",
   "metadata": {},
   "outputs": [
    {
     "name": "stdout",
     "output_type": "stream",
     "text": [
      "201 3\n"
     ]
    }
   ],
   "source": [
    "def divide_exact(n, d):\n",
    "    return n // d, n % d\n",
    "\n",
    "quotient, remainder = divide_exact(2013, 10)\n",
    "print(quotient, remainder)"
   ]
  },
  {
   "cell_type": "markdown",
   "id": "8b95b477",
   "metadata": {},
   "source": [
    "### False values in Python:  \n",
    "False, 0, '', None\n",
    "### Ture values in Python: \n",
    "Anything else (True)"
   ]
  },
  {
   "cell_type": "markdown",
   "id": "93d1ea19",
   "metadata": {},
   "source": [
    "#### if-elif-else"
   ]
  },
  {
   "cell_type": "code",
   "execution_count": 7,
   "id": "c1637e14",
   "metadata": {},
   "outputs": [
    {
     "name": "stdout",
     "output_type": "stream",
     "text": [
      "2 0 2\n"
     ]
    }
   ],
   "source": [
    "def abs(x):\n",
    "    if x < 0:\n",
    "        return -x\n",
    "    elif x == 0:\n",
    "        return 0\n",
    "    else:\n",
    "        return x\n",
    "\n",
    "print(abs(-2), abs(0), abs(2))"
   ]
  },
  {
   "cell_type": "markdown",
   "id": "205f0b96",
   "metadata": {},
   "source": [
    "#### while"
   ]
  },
  {
   "cell_type": "code",
   "execution_count": 8,
   "id": "55cdb257",
   "metadata": {},
   "outputs": [
    {
     "data": {
      "text/plain": [
       "6"
      ]
     },
     "execution_count": 8,
     "metadata": {},
     "output_type": "execute_result"
    }
   ],
   "source": [
    "i, total = 0, 0\n",
    "\n",
    "while i < 3:\n",
    "    i = i + 1\n",
    "    total =total + i\n",
    "    \n",
    "total"
   ]
  },
  {
   "cell_type": "markdown",
   "id": "32c41430",
   "metadata": {},
   "source": [
    "#### 打印质因子\n",
    "##### 核心思想：只需从2开始，依次打印最小因子即可，最小因子即为最小质因子"
   ]
  },
  {
   "cell_type": "code",
   "execution_count": 20,
   "id": "cb492d70",
   "metadata": {},
   "outputs": [
    {
     "name": "stdout",
     "output_type": "stream",
     "text": [
      "3\n",
      "3\n",
      "3\n",
      "5\n",
      "7\n"
     ]
    }
   ],
   "source": [
    "def prime_factors(n):\n",
    "    i = 2 # 能整除n的最小质因子\n",
    "    while n > 1:\n",
    "        while n % i:\n",
    "            i += 1\n",
    "        print(i)\n",
    "        n //= i\n",
    "\n",
    "prime_factors(945)"
   ]
  }
 ],
 "metadata": {
  "kernelspec": {
   "display_name": "Python 3 (ipykernel)",
   "language": "python",
   "name": "python3"
  },
  "language_info": {
   "codemirror_mode": {
    "name": "ipython",
    "version": 3
   },
   "file_extension": ".py",
   "mimetype": "text/x-python",
   "name": "python",
   "nbconvert_exporter": "python",
   "pygments_lexer": "ipython3",
   "version": "3.9.13"
  }
 },
 "nbformat": 4,
 "nbformat_minor": 5
}
